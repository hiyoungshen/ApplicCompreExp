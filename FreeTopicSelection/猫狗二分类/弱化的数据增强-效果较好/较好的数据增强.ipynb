{
 "cells": [
  {
   "cell_type": "code",
   "execution_count": 107,
   "metadata": {},
   "outputs": [],
   "source": [
    "# !pip install tensorflow-gpu==2.0.0"
   ]
  },
  {
   "cell_type": "code",
   "execution_count": 108,
   "metadata": {},
   "outputs": [],
   "source": [
    "import tensorflow as tf\n",
    "from tensorflow import keras\n",
    "import matplotlib.pyplot as plt\n",
    "%matplotlib inline\n",
    "import numpy as np\n",
    "\n",
    "import glob\n",
    "import os"
   ]
  },
  {
   "cell_type": "code",
   "execution_count": 109,
   "metadata": {},
   "outputs": [],
   "source": [
    "# os.listdir('../input/cat-and-dog/training_set/training_set/')"
   ]
  },
  {
   "cell_type": "code",
   "execution_count": 110,
   "metadata": {},
   "outputs": [
    {
     "name": "stdout",
     "output_type": "stream",
     "text": [
      "Tensorflow version: 2.1.0\n"
     ]
    }
   ],
   "source": [
    "print('Tensorflow version: {}'.format(tf.__version__))"
   ]
  },
  {
   "cell_type": "code",
   "execution_count": 111,
   "metadata": {},
   "outputs": [
    {
     "data": {
      "text/plain": [
       "['../input/cat-and-dog/training_set/training_set/dogs/dog.1308.jpg',\n",
       " '../input/cat-and-dog/training_set/training_set/dogs/dog.546.jpg',\n",
       " '../input/cat-and-dog/training_set/training_set/dogs/dog.1571.jpg',\n",
       " '../input/cat-and-dog/training_set/training_set/dogs/dog.1779.jpg',\n",
       " '../input/cat-and-dog/training_set/training_set/dogs/dog.783.jpg']"
      ]
     },
     "execution_count": 111,
     "metadata": {},
     "output_type": "execute_result"
    }
   ],
   "source": [
    "# 本地图片的位置\n",
    "# '../input/dc_2000/train/*/*.jpg'\n",
    "\n",
    "train_image_path = glob.glob('../input/cat-and-dog/training_set/training_set/*/*.jpg')\n",
    "\n",
    "len(train_image_path)# kaggle上8005张图片\n",
    "train_image_path[-5:]"
   ]
  },
  {
   "cell_type": "code",
   "execution_count": 112,
   "metadata": {},
   "outputs": [],
   "source": [
    "np.random.shuffle(train_image_path) # 打乱路径, 前面几千张全是狗， 后面的全是猫"
   ]
  },
  {
   "cell_type": "code",
   "execution_count": 113,
   "metadata": {},
   "outputs": [
    {
     "data": {
      "text/plain": [
       "[1, 0, 0, 1, 1]"
      ]
     },
     "execution_count": 113,
     "metadata": {},
     "output_type": "execute_result"
    }
   ],
   "source": [
    "# 本地数据集读取标签\n",
    "# train_image_label = [int(path.split('input/dc_2000/train/')[0].split('\\\\')[1].split('.')[0] == 'cat') for path in train_image_path]\n",
    "\n",
    "# kaggle上的数据集读取标签\n",
    "# ../input/cat-and-dog/training_set/training_set/cats/cat.2853.jpg\n",
    "train_image_label = [int(path.split('/training_set/training_set/')[1].split('/')[1].split('.')[0] == 'cat') for path in train_image_path]\n",
    "train_image_label[-5:]"
   ]
  },
  {
   "cell_type": "code",
   "execution_count": 114,
   "metadata": {},
   "outputs": [],
   "source": [
    "# 查看读取到的图片是否正确\n",
    "# image = tf.io.read_file(train_image_path[0])\n",
    "# image = tf.image.decode_jpeg(image, channels=3)\n",
    "# print(image.shape)\n",
    "# plt.imshow(image)"
   ]
  },
  {
   "cell_type": "code",
   "execution_count": 141,
   "metadata": {},
   "outputs": [],
   "source": [
    "def load_preprocess_image(path, label):\n",
    "    '''\n",
    "    func:根据路径载入图像和label\n",
    "    '''\n",
    "\n",
    "\n",
    "    image = tf.io.read_file(path)   # 根据文件路径读取文件\n",
    "    image = tf.image.decode_jpeg(image,channels=3) # jpg解码\n",
    "    image = tf.image.resize(image, [320, 320]) # 统一大小\n",
    "    \n",
    "    image = tf.image.random_crop(image, [256, 256, 3])\n",
    "    image = tf.image.random_flip_left_right(image)\n",
    "#     image = tf.image.random_flip_up_down(image)\n",
    "#     image = tf.image.random_brightness(image, 0.5)\n",
    "#     image = tf.image.random_contrast(image, 0, 1)\n",
    "    image = tf.cast(image, tf.float32)  # 转换数据类型\n",
    "    image = image/255   # 统一数据范围\n",
    "\n",
    "    label = tf.reshape(label, (1,)) # reshape成(num,)\n",
    "    return image, label"
   ]
  },
  {
   "cell_type": "code",
   "execution_count": 142,
   "metadata": {},
   "outputs": [],
   "source": [
    "def load_preprocess_test_image(path, label):\n",
    "    '''\n",
    "    func:根据路径载入图像和label\n",
    "    '''\n",
    "\n",
    "\n",
    "    image = tf.io.read_file(path)   # 根据文件路径读取文件\n",
    "    image = tf.image.decode_jpeg(image,channels=3) # jpg解码\n",
    "    image = tf.image.resize(image, [256, 256]) # 统一大小\n",
    "    \n",
    "#    image = tf.image.random_crop(image, [256, 256, 3])\n",
    "#     image = tf.image.random_flip_left_right(image)\n",
    "#     image = tf.image.random_flip_up_down(image)\n",
    "#     image = tf.image.random_brightness(image, 0.5)\n",
    "#     image = tf.image.random_contrast(image, 0, 1)\n",
    "    image = tf.cast(image, tf.float32)  # 转换数据类型\n",
    "    image = image/255   # 统一数据范围\n",
    "\n",
    "    label = tf.reshape(label, (1,)) # reshape成(num,)\n",
    "    return image, label"
   ]
  },
  {
   "cell_type": "code",
   "execution_count": 143,
   "metadata": {},
   "outputs": [],
   "source": [
    "#tf.image.convert_image_dtype"
   ]
  },
  {
   "cell_type": "code",
   "execution_count": 144,
   "metadata": {},
   "outputs": [],
   "source": [
    "train_image_ds = tf.data.Dataset.from_tensor_slices((train_image_path, train_image_label)) # load数据集\n",
    "# train_image_ds"
   ]
  },
  {
   "cell_type": "code",
   "execution_count": 145,
   "metadata": {},
   "outputs": [],
   "source": [
    "# 根据计算机的特征，自动的使用并行运算\n",
    "AUTOTUNE = tf.data.experimental.AUTOTUNE\n",
    "# AUTOTUNE"
   ]
  },
  {
   "cell_type": "code",
   "execution_count": 146,
   "metadata": {},
   "outputs": [],
   "source": [
    "# 预处理\n",
    "train_image_ds = train_image_ds.map(load_preprocess_image, num_parallel_calls=AUTOTUNE) # 载入图像\n",
    "# print(train_image_ds)"
   ]
  },
  {
   "cell_type": "code",
   "execution_count": 147,
   "metadata": {},
   "outputs": [],
   "source": [
    "# for img, label in train_image_ds.take(1):\n",
    "#     plt.imshow(img)"
   ]
  },
  {
   "cell_type": "code",
   "execution_count": 148,
   "metadata": {},
   "outputs": [],
   "source": [
    "# 设定batch\n",
    "BATCH_SIZE = 32\n",
    "train_count = len(train_image_path) # 训练数据集的个数"
   ]
  },
  {
   "cell_type": "code",
   "execution_count": 149,
   "metadata": {},
   "outputs": [],
   "source": [
    "# 设立batch, train_image_ds是一个可迭代对象\n",
    "train_image_ds = train_image_ds.shuffle(500).batch(BATCH_SIZE)\n",
    "train_image_ds = train_image_ds.prefetch(AUTOTUNE)"
   ]
  },
  {
   "cell_type": "code",
   "execution_count": 150,
   "metadata": {},
   "outputs": [],
   "source": [
    "# imgs,labels=next(iter(train_image_ds))\n",
    "# imgs.shape\n",
    "# imgs[0]"
   ]
  },
  {
   "cell_type": "code",
   "execution_count": 151,
   "metadata": {},
   "outputs": [],
   "source": [
    "# train_image_path = glob.glob('../input/dc_2000/train/*/*.jpg')\n",
    "# train_image_label = [int(path.split('input/dc_2000/train/')[0].split('\\\\')[1].split('.')[0] == 'cat') for path in train_image_path]\n",
    "# test_image_path = glob.glob('../input/dc_2000/test/*/*.jpg')\n",
    "# test_image_label = [int(path.split('input/dc_2000/train/')[0].split('\\\\')[0].split('.')[0] == 'cat') for path in test_image_path]\n",
    "\n",
    "# train_image_path = glob.glob('../input/cat-and-dog/training_set/training_set/*/*.jpg')\n",
    "test_image_path = glob.glob('../input/cat-and-dog/test_set/test_set/*/*.jpg')\n",
    "# train_image_label = [int(path.split('/training_set/training_set/')[1].split('/')[1].split('.')[0] == 'cat') for path in train_image_path]\n",
    "test_image_label = [int(path.split('/test_set/test_set/')[1].split('/')[1].split('.')[0] == 'cat') for path in test_image_path]\n",
    "\n",
    "# 载入测试图片\n",
    "test_image_ds = tf.data.Dataset.from_tensor_slices((test_image_path, test_image_label))\n",
    "test_image_ds = test_image_ds.map(load_preprocess_test_image, num_parallel_calls=AUTOTUNE)\n",
    "test_image_ds = test_image_ds.batch(BATCH_SIZE)\n",
    "test_image_ds = test_image_ds.prefetch(AUTOTUNE)"
   ]
  },
  {
   "cell_type": "code",
   "execution_count": 152,
   "metadata": {},
   "outputs": [
    {
     "data": {
      "text/plain": [
       "2023"
      ]
     },
     "execution_count": 152,
     "metadata": {},
     "output_type": "execute_result"
    }
   ],
   "source": [
    "len(test_image_path)"
   ]
  },
  {
   "cell_type": "code",
   "execution_count": 153,
   "metadata": {},
   "outputs": [],
   "source": [
    "model = keras.Sequential([\n",
    "    tf.keras.layers.Conv2D(64, (3, 3), input_shape=(256, 256, 3), activation='relu'),\n",
    "# #     tf.keras.layers.BatchNormalization(),\n",
    "#     \n",
    "#     tf.keras.layers.Conv2D(64, (3, 3), activation='relu'),\n",
    "#     tf.keras.layers.BatchNormalization(),\n",
    "    tf.keras.layers.MaxPooling2D(),\n",
    "#     \n",
    "    tf.keras.layers.Conv2D(128, (3, 3), activation='relu'),\n",
    "# #     tf.keras.layers.BatchNormalization(),\n",
    "#     \n",
    "#     tf.keras.layers.Conv2D(128, (3, 3), activation='relu'),\n",
    "#     tf.keras.layers.BatchNormalization(),\n",
    "    tf.keras.layers.MaxPooling2D(),\n",
    "#     \n",
    "    tf.keras.layers.Conv2D(256, (3, 3), activation='relu'),\n",
    "# #     tf.keras.layers.BatchNormalization(),\n",
    "#     \n",
    "#     tf.keras.layers.Conv2D(256, (3, 3), activation='relu'),\n",
    "#     tf.keras.layers.BatchNormalization(),\n",
    "    tf.keras.layers.MaxPooling2D(),\n",
    "    \n",
    "    tf.keras.layers.Conv2D(512, (3, 3), activation='relu'),\n",
    "#     tf.keras.layers.BatchNormalization(),\n",
    "    \n",
    "#     tf.keras.layers.Conv2D(512, (3, 3), activation='relu'),\n",
    "#     tf.keras.layers.BatchNormalization(),\n",
    "    tf.keras.layers.MaxPooling2D(),\n",
    "    \n",
    "    tf.keras.layers.Conv2D(1024, (3, 3), activation='relu'),\n",
    "#     tf.keras.layers.BatchNormalization(),\n",
    "#     tf.keras.layers.Conv2D(1024, (3, 3), activation='relu'),\n",
    "#     tf.keras.layers.BatchNormalization(),\n",
    "    tf.keras.layers.GlobalAveragePooling2D(),\n",
    "    \n",
    "    tf.keras.layers.Dense(256, activation='relu'),\n",
    "#     tf.keras.layers.BatchNormalization(),\n",
    "    tf.keras.layers.Dense(1)\n",
    "])"
   ]
  },
  {
   "cell_type": "code",
   "execution_count": 154,
   "metadata": {},
   "outputs": [
    {
     "name": "stdout",
     "output_type": "stream",
     "text": [
      "Model: \"sequential_5\"\n",
      "_________________________________________________________________\n",
      "Layer (type)                 Output Shape              Param #   \n",
      "=================================================================\n",
      "conv2d_39 (Conv2D)           (None, 254, 254, 64)      1792      \n",
      "_________________________________________________________________\n",
      "max_pooling2d_20 (MaxPooling (None, 127, 127, 64)      0         \n",
      "_________________________________________________________________\n",
      "conv2d_40 (Conv2D)           (None, 125, 125, 128)     73856     \n",
      "_________________________________________________________________\n",
      "max_pooling2d_21 (MaxPooling (None, 62, 62, 128)       0         \n",
      "_________________________________________________________________\n",
      "conv2d_41 (Conv2D)           (None, 60, 60, 256)       295168    \n",
      "_________________________________________________________________\n",
      "max_pooling2d_22 (MaxPooling (None, 30, 30, 256)       0         \n",
      "_________________________________________________________________\n",
      "conv2d_42 (Conv2D)           (None, 28, 28, 512)       1180160   \n",
      "_________________________________________________________________\n",
      "max_pooling2d_23 (MaxPooling (None, 14, 14, 512)       0         \n",
      "_________________________________________________________________\n",
      "conv2d_43 (Conv2D)           (None, 12, 12, 1024)      4719616   \n",
      "_________________________________________________________________\n",
      "global_average_pooling2d_5 ( (None, 1024)              0         \n",
      "_________________________________________________________________\n",
      "dense_10 (Dense)             (None, 256)               262400    \n",
      "_________________________________________________________________\n",
      "dense_11 (Dense)             (None, 1)                 257       \n",
      "=================================================================\n",
      "Total params: 6,533,249\n",
      "Trainable params: 6,533,249\n",
      "Non-trainable params: 0\n",
      "_________________________________________________________________\n"
     ]
    }
   ],
   "source": [
    "model.summary()"
   ]
  },
  {
   "cell_type": "code",
   "execution_count": 155,
   "metadata": {},
   "outputs": [],
   "source": [
    "# tf.keras.losses.binary_crossentropy([0.,0.,1.,1.], [1.,1.,1.,1.])#二元交叉熵定义loss"
   ]
  },
  {
   "cell_type": "code",
   "execution_count": 156,
   "metadata": {},
   "outputs": [],
   "source": [
    "# [https://www.jianshu.com/p/aebcaf8af76e]\n",
    "# 使用Adam优化, 具体一些的对Adam的解释可以看上面的博客\n",
    "optimizer = tf.keras.optimizers.Adam(learning_rate=0.0001)"
   ]
  },
  {
   "cell_type": "code",
   "execution_count": 157,
   "metadata": {},
   "outputs": [],
   "source": [
    "epoch_loss_avg = tf.keras.metrics.Mean('train_loss') # \n",
    "train_accuracy = tf.keras.metrics.Accuracy() # 计算正确率\n",
    "\n",
    "epoch_loss_avg_test = tf.keras.metrics.Mean('test_loss')\n",
    "test_accuracy = tf.keras.metrics.Accuracy()"
   ]
  },
  {
   "cell_type": "code",
   "execution_count": 158,
   "metadata": {},
   "outputs": [],
   "source": [
    "# train_accuracy([1,0,1], [1,1,1])"
   ]
  },
  {
   "cell_type": "code",
   "execution_count": 159,
   "metadata": {},
   "outputs": [],
   "source": [
    "def train_step(model, images, labels):\n",
    "    \"\"\"\n",
    "    func:训练集求梯度\n",
    "    \"\"\"\n",
    "    with tf.GradientTape() as t:\n",
    "        pred = model(images) # 使用模型预测结果\n",
    "        loss_step = tf.keras.losses.BinaryCrossentropy(from_logits=True)(labels, pred) # 计算损失值\n",
    "    \n",
    "    grads = t.gradient(loss_step, model.trainable_variables) #计算dloss/d(参数)\n",
    "    optimizer.apply_gradients(zip(grads, model.trainable_variables)) #根据dloss/d(variable)进行优化\n",
    "\n",
    "    epoch_loss_avg(loss_step)# 计算loss的均值\n",
    "    train_accuracy(labels, tf.cast(pred>0, tf.int32))# 计算精确度"
   ]
  },
  {
   "cell_type": "code",
   "execution_count": 160,
   "metadata": {},
   "outputs": [],
   "source": [
    "def test_step(model, images, labels):\n",
    "    pred = model(images, training=False)\n",
    "    loss_step = tf.keras.losses.BinaryCrossentropy(from_logits=True)(labels, pred)\n",
    "    epoch_loss_avg_test(loss_step)\n",
    "    test_accuracy(labels, tf.cast(pred>0, tf.int32))"
   ]
  },
  {
   "cell_type": "code",
   "execution_count": 161,
   "metadata": {},
   "outputs": [],
   "source": [
    "train_loss_results = []\n",
    "train_acc_results = []\n",
    "\n",
    "test_loss_results = []\n",
    "test_acc_results = []"
   ]
  },
  {
   "cell_type": "code",
   "execution_count": 162,
   "metadata": {},
   "outputs": [],
   "source": [
    "num_epochs = 30"
   ]
  },
  {
   "cell_type": "code",
   "execution_count": 163,
   "metadata": {},
   "outputs": [
    {
     "name": "stdout",
     "output_type": "stream",
     "text": [
      "...........................................................................................................................................................................................................................................................\n",
      "Epoch:1: loss: 0.687, accuracy: 0.536, test_loss: 0.681, test_accuracy: 0.540\n",
      "...........................................................................................................................................................................................................................................................\n",
      "Epoch:2: loss: 0.638, accuracy: 0.639, test_loss: 0.630, test_accuracy: 0.651\n",
      "...........................................................................................................................................................................................................................................................\n",
      "Epoch:3: loss: 0.602, accuracy: 0.677, test_loss: 0.583, test_accuracy: 0.697\n",
      "...........................................................................................................................................................................................................................................................\n",
      "Epoch:4: loss: 0.568, accuracy: 0.717, test_loss: 0.551, test_accuracy: 0.717\n",
      "...........................................................................................................................................................................................................................................................\n",
      "Epoch:5: loss: 0.548, accuracy: 0.728, test_loss: 0.533, test_accuracy: 0.733\n",
      "...........................................................................................................................................................................................................................................................\n",
      "Epoch:6: loss: 0.526, accuracy: 0.742, test_loss: 0.547, test_accuracy: 0.725\n",
      "...........................................................................................................................................................................................................................................................\n",
      "Epoch:7: loss: 0.503, accuracy: 0.758, test_loss: 0.553, test_accuracy: 0.729\n",
      "...........................................................................................................................................................................................................................................................\n",
      "Epoch:8: loss: 0.496, accuracy: 0.764, test_loss: 0.564, test_accuracy: 0.724\n",
      "...........................................................................................................................................................................................................................................................\n",
      "Epoch:9: loss: 0.467, accuracy: 0.778, test_loss: 0.495, test_accuracy: 0.776\n",
      "...........................................................................................................................................................................................................................................................\n",
      "Epoch:10: loss: 0.443, accuracy: 0.798, test_loss: 0.824, test_accuracy: 0.656\n",
      "...........................................................................................................................................................................................................................................................\n",
      "Epoch:11: loss: 0.431, accuracy: 0.803, test_loss: 0.466, test_accuracy: 0.790\n",
      "...........................................................................................................................................................................................................................................................\n",
      "Epoch:12: loss: 0.414, accuracy: 0.815, test_loss: 0.447, test_accuracy: 0.797\n",
      "...........................................................................................................................................................................................................................................................\n",
      "Epoch:13: loss: 0.388, accuracy: 0.826, test_loss: 0.422, test_accuracy: 0.816\n",
      "...........................................................................................................................................................................................................................................................\n",
      "Epoch:14: loss: 0.369, accuracy: 0.838, test_loss: 0.461, test_accuracy: 0.804\n",
      "...........................................................................................................................................................................................................................................................\n",
      "Epoch:15: loss: 0.362, accuracy: 0.838, test_loss: 0.422, test_accuracy: 0.813\n",
      "...........................................................................................................................................................................................................................................................\n",
      "Epoch:16: loss: 0.349, accuracy: 0.847, test_loss: 0.448, test_accuracy: 0.798\n",
      "...........................................................................................................................................................................................................................................................\n",
      "Epoch:17: loss: 0.320, accuracy: 0.861, test_loss: 0.522, test_accuracy: 0.777\n",
      "...........................................................................................................................................................................................................................................................\n",
      "Epoch:18: loss: 0.315, accuracy: 0.865, test_loss: 0.330, test_accuracy: 0.859\n",
      "...........................................................................................................................................................................................................................................................\n",
      "Epoch:19: loss: 0.316, accuracy: 0.862, test_loss: 0.308, test_accuracy: 0.867\n",
      "...........................................................................................................................................................................................................................................................\n",
      "Epoch:20: loss: 0.286, accuracy: 0.879, test_loss: 0.380, test_accuracy: 0.826\n",
      "...........................................................................................................................................................................................................................................................\n",
      "Epoch:21: loss: 0.279, accuracy: 0.882, test_loss: 0.286, test_accuracy: 0.880\n",
      "...........................................................................................................................................................................................................................................................\n",
      "Epoch:22: loss: 0.261, accuracy: 0.889, test_loss: 0.318, test_accuracy: 0.877\n",
      "...........................................................................................................................................................................................................................................................\n",
      "Epoch:23: loss: 0.258, accuracy: 0.894, test_loss: 0.347, test_accuracy: 0.857\n",
      "...........................................................................................................................................................................................................................................................\n",
      "Epoch:24: loss: 0.245, accuracy: 0.897, test_loss: 0.314, test_accuracy: 0.881\n",
      "...........................................................................................................................................................................................................................................................\n",
      "Epoch:25: loss: 0.231, accuracy: 0.903, test_loss: 0.349, test_accuracy: 0.853\n"
     ]
    },
    {
     "name": "stdout",
     "output_type": "stream",
     "text": [
      "...........................................................................................................................................................................................................................................................\n",
      "Epoch:26: loss: 0.221, accuracy: 0.913, test_loss: 0.485, test_accuracy: 0.823\n",
      "...........................................................................................................................................................................................................................................................\n",
      "Epoch:27: loss: 0.227, accuracy: 0.908, test_loss: 0.284, test_accuracy: 0.882\n",
      "...........................................................................................................................................................................................................................................................\n",
      "Epoch:28: loss: 0.209, accuracy: 0.916, test_loss: 0.269, test_accuracy: 0.885\n",
      "...........................................................................................................................................................................................................................................................\n",
      "Epoch:29: loss: 0.204, accuracy: 0.917, test_loss: 0.260, test_accuracy: 0.893\n",
      "...........................................................................................................................................................................................................................................................\n",
      "Epoch:30: loss: 0.183, accuracy: 0.928, test_loss: 0.226, test_accuracy: 0.909\n"
     ]
    }
   ],
   "source": [
    "for epoch in range(num_epochs):\n",
    "#     print(train_image_ds)\n",
    "    for imgs_, labels_ in train_image_ds:\n",
    "        train_step(model, imgs_, labels_)\n",
    "        print('.', end='')\n",
    "    print()\n",
    "    \n",
    "    train_loss_results.append(epoch_loss_avg.result())\n",
    "    train_acc_results.append(train_accuracy.result())\n",
    "    \n",
    "    \n",
    "    for imgs_, labels_ in test_image_ds:\n",
    "        test_step(model, imgs_, labels_)\n",
    "        \n",
    "    test_loss_results.append(epoch_loss_avg_test.result())\n",
    "    test_acc_results.append(test_accuracy.result())\n",
    "    \n",
    "    print('Epoch:{}: loss: {:.3f}, accuracy: {:.3f}, test_loss: {:.3f}, test_accuracy: {:.3f}'.format(\n",
    "        epoch + 1,\n",
    "        epoch_loss_avg.result(),\n",
    "        train_accuracy.result(),\n",
    "        epoch_loss_avg_test.result(),\n",
    "        test_accuracy.result()\n",
    "    ))\n",
    "    \n",
    "    epoch_loss_avg.reset_states()\n",
    "    train_accuracy.reset_states()\n",
    "    \n",
    "    epoch_loss_avg_test.reset_states()\n",
    "    test_accuracy.reset_states()"
   ]
  },
  {
   "cell_type": "code",
   "execution_count": 164,
   "metadata": {},
   "outputs": [
    {
     "name": "stdout",
     "output_type": "stream",
     "text": [
      "30\n",
      "30\n"
     ]
    },
    {
     "data": {
      "text/plain": [
       "<matplotlib.legend.Legend at 0x7f59a6c0b278>"
      ]
     },
     "execution_count": 164,
     "metadata": {},
     "output_type": "execute_result"
    },
    {
     "data": {
      "image/png": "[encoded data removed]",
      "text/plain": [
       "<Figure size 432x288 with 1 Axes>"
      ]
     },
     "metadata": {
      "needs_background": "light"
     },
     "output_type": "display_data"
    }
   ],
   "source": [
    "print(len(train_acc_results))\n",
    "print(len(test_acc_results))\n",
    "plt.plot(range(1,num_epochs+1),train_acc_results,label='train_accuracy')\n",
    "plt.plot(range(1,num_epochs+1),test_acc_results,label='test_accuracy')\n",
    "plt.legend()"
   ]
  },
  {
   "cell_type": "code",
   "execution_count": 165,
   "metadata": {},
   "outputs": [
    {
     "data": {
      "text/plain": [
       "<matplotlib.legend.Legend at 0x7f59a6bf1dd8>"
      ]
     },
     "execution_count": 165,
     "metadata": {},
     "output_type": "execute_result"
    },
    {
     "data": {
      "image/png": "[encoded data removed]",
      "text/plain": [
       "<Figure size 432x288 with 1 Axes>"
      ]
     },
     "metadata": {
      "needs_background": "light"
     },
     "output_type": "display_data"
    }
   ],
   "source": [
    "plt.plot(range(1,num_epochs+1),train_loss_results,label='train_loss')\n",
    "plt.plot(range(1,num_epochs+1),test_loss_results,label='test_loss')\n",
    "plt.legend()"
   ]
  },
  {
   "cell_type": "code",
   "execution_count": 166,
   "metadata": {},
   "outputs": [
    {
     "name": "stdout",
     "output_type": "stream",
     "text": [
      "...........................................................................................................................................................................................................................................................\n",
      "Epoch:32: loss: 0.193, accuracy: 0.920, test_loss: 0.243, test_accuracy: 0.901\n",
      "...........................................................................................................................................................................................................................................................\n",
      "Epoch:33: loss: 0.177, accuracy: 0.932, test_loss: 0.269, test_accuracy: 0.897\n",
      "...........................................................................................................................................................................................................................................................\n",
      "Epoch:34: loss: 0.173, accuracy: 0.932, test_loss: 0.291, test_accuracy: 0.888\n",
      "...........................................................................................................................................................................................................................................................\n",
      "Epoch:35: loss: 0.170, accuracy: 0.932, test_loss: 0.279, test_accuracy: 0.894\n",
      "...........................................................................................................................................................................................................................................................\n",
      "Epoch:36: loss: 0.161, accuracy: 0.934, test_loss: 0.260, test_accuracy: 0.893\n",
      "...........................................................................................................................................................................................................................................................\n",
      "Epoch:37: loss: 0.152, accuracy: 0.939, test_loss: 0.239, test_accuracy: 0.900\n",
      "...........................................................................................................................................................................................................................................................\n",
      "Epoch:38: loss: 0.157, accuracy: 0.937, test_loss: 0.224, test_accuracy: 0.911\n",
      "...........................................................................................................................................................................................................................................................\n",
      "Epoch:39: loss: 0.143, accuracy: 0.942, test_loss: 0.231, test_accuracy: 0.918\n",
      "...........................................................................................................................................................................................................................................................\n",
      "Epoch:40: loss: 0.145, accuracy: 0.942, test_loss: 0.229, test_accuracy: 0.917\n"
     ]
    }
   ],
   "source": [
    "for epoch in range(num_epochs+1,40):\n",
    "#     print(train_image_ds)\n",
    "    for imgs_, labels_ in train_image_ds:\n",
    "        train_step(model, imgs_, labels_)\n",
    "        print('.', end='')\n",
    "    print()\n",
    "    \n",
    "    train_loss_results.append(epoch_loss_avg.result())\n",
    "    train_acc_results.append(train_accuracy.result())\n",
    "    \n",
    "    \n",
    "    for imgs_, labels_ in test_image_ds:\n",
    "        test_step(model, imgs_, labels_)\n",
    "        \n",
    "    test_loss_results.append(epoch_loss_avg_test.result())\n",
    "    test_acc_results.append(test_accuracy.result())\n",
    "    \n",
    "    print('Epoch:{}: loss: {:.3f}, accuracy: {:.3f}, test_loss: {:.3f}, test_accuracy: {:.3f}'.format(\n",
    "        epoch + 1,\n",
    "        epoch_loss_avg.result(),\n",
    "        train_accuracy.result(),\n",
    "        epoch_loss_avg_test.result(),\n",
    "        test_accuracy.result()\n",
    "    ))\n",
    "    \n",
    "    epoch_loss_avg.reset_states()\n",
    "    train_accuracy.reset_states()\n",
    "    \n",
    "    epoch_loss_avg_test.reset_states()\n",
    "    test_accuracy.reset_states()"
   ]
  },
  {
   "cell_type": "code",
   "execution_count": 169,
   "metadata": {},
   "outputs": [
    {
     "name": "stdout",
     "output_type": "stream",
     "text": [
      "39\n",
      "39\n"
     ]
    },
    {
     "data": {
      "text/plain": [
       "<matplotlib.legend.Legend at 0x7f5d78632748>"
      ]
     },
     "execution_count": 169,
     "metadata": {},
     "output_type": "execute_result"
    },
    {
     "data": {
      "image/png": "[encoded data removed]",
      "text/plain": [
       "<Figure size 432x288 with 1 Axes>"
      ]
     },
     "metadata": {
      "needs_background": "light"
     },
     "output_type": "display_data"
    }
   ],
   "source": [
    "print(len(train_acc_results))\n",
    "print(len(test_acc_results))\n",
    "plt.plot(range(1,num_epochs+10),train_acc_results,label='train_accuracy')\n",
    "plt.plot(range(1,num_epochs+10),test_acc_results,label='test_accuracy')\n",
    "plt.legend()"
   ]
  },
  {
   "cell_type": "code",
   "execution_count": 170,
   "metadata": {},
   "outputs": [
    {
     "data": {
      "text/plain": [
       "<matplotlib.legend.Legend at 0x7f59a70b1b00>"
      ]
     },
     "execution_count": 170,
     "metadata": {},
     "output_type": "execute_result"
    },
    {
     "data": {
      "image/png": "[encoded data removed]",
      "text/plain": [
       "<Figure size 432x288 with 1 Axes>"
      ]
     },
     "metadata": {
      "needs_background": "light"
     },
     "output_type": "display_data"
    }
   ],
   "source": [
    "plt.plot(range(1,num_epochs+10),train_loss_results,label='train_loss')\n",
    "plt.plot(range(1,num_epochs+10),test_loss_results,label='test_loss')\n",
    "plt.legend()"
   ]
  },
  {
   "cell_type": "code",
   "execution_count": null,
   "metadata": {},
   "outputs": [
    {
     "name": "stdout",
     "output_type": "stream",
     "text": [
      "...........................................................................................................................................................................................................................................................\n",
      "Epoch:41: loss: 0.144, accuracy: 0.942, test_loss: 0.204, test_accuracy: 0.922\n",
      "...........................................................................................................................................................................................................................................................\n",
      "Epoch:42: loss: 0.136, accuracy: 0.946, test_loss: 0.306, test_accuracy: 0.894\n",
      "...........................................................................................................................................................................................................................................................\n",
      "Epoch:43: loss: 0.132, accuracy: 0.947, test_loss: 0.240, test_accuracy: 0.913\n",
      "........................................"
     ]
    }
   ],
   "source": [
    "for epoch in range(40,51):\n",
    "#     print(train_image_ds)\n",
    "    for imgs_, labels_ in train_image_ds:\n",
    "        train_step(model, imgs_, labels_)\n",
    "        print('.', end='')\n",
    "    print()\n",
    "    \n",
    "    train_loss_results.append(epoch_loss_avg.result())\n",
    "    train_acc_results.append(train_accuracy.result())\n",
    "    \n",
    "    \n",
    "    for imgs_, labels_ in test_image_ds:\n",
    "        test_step(model, imgs_, labels_)\n",
    "        \n",
    "    test_loss_results.append(epoch_loss_avg_test.result())\n",
    "    test_acc_results.append(test_accuracy.result())\n",
    "    \n",
    "    print('Epoch:{}: loss: {:.3f}, accuracy: {:.3f}, test_loss: {:.3f}, test_accuracy: {:.3f}'.format(\n",
    "        epoch + 1,\n",
    "        epoch_loss_avg.result(),\n",
    "        train_accuracy.result(),\n",
    "        epoch_loss_avg_test.result(),\n",
    "        test_accuracy.result()\n",
    "    ))\n",
    "    \n",
    "    epoch_loss_avg.reset_states()\n",
    "    train_accuracy.reset_states()\n",
    "    \n",
    "    epoch_loss_avg_test.reset_states()\n",
    "    test_accuracy.reset_states()"
   ]
  },
  {
   "cell_type": "markdown",
   "metadata": {},
   "source": [
    "...........................................................................................................................................................................................................................................................\n",
    "Epoch:41: loss: 0.144, accuracy: 0.942, test_loss: 0.204, test_accuracy: 0.922\n",
    "...........................................................................................................................................................................................................................................................\n",
    "Epoch:42: loss: 0.136, accuracy: 0.946, test_loss: 0.306, test_accuracy: 0.894\n",
    "...........................................................................................................................................................................................................................................................\n",
    "Epoch:43: loss: 0.132, accuracy: 0.947, test_loss: 0.240, test_accuracy: 0.913\n",
    "...........................................................................................................................................................................................................................................................\n",
    "Epoch:44: loss: 0.120, accuracy: 0.951, test_loss: 0.209, test_accuracy: 0.919\n",
    "...........................................................................................................................................................................................................................................................\n",
    "Epoch:45: loss: 0.114, accuracy: 0.955, test_loss: 0.238, test_accuracy: 0.910\n",
    "...........................................................................................................................................................................................................................................................\n",
    "Epoch:46: loss: 0.111, accuracy: 0.958, test_loss: 0.300, test_accuracy: 0.905\n",
    "...........................................................................................................................................................................................................................................................\n",
    "Epoch:47: loss: 0.103, accuracy: 0.959, test_loss: 0.221, test_accuracy: 0.922\n",
    "...........................................................................................................................................................................................................................................................\n",
    "Epoch:48: loss: 0.112, accuracy: 0.957, test_loss: 0.247, test_accuracy: 0.916\n",
    "...........................................................................................................................................................................................................................................................\n",
    "Epoch:49: loss: 0.109, accuracy: 0.958, test_loss: 0.244, test_accuracy: 0.918\n",
    "...........................................................................................................................................................................................................................................................\n",
    "Epoch:50: loss: 0.102, accuracy: 0.963, test_loss: 0.218, test_accuracy: 0.924\n",
    "...........................................................................................................................................................................................................................................................\n",
    "Epoch:51: loss: 0.094, accuracy: 0.966, test_loss: 0.266, test_accuracy: 0.908"
   ]
  },
  {
   "cell_type": "code",
   "execution_count": null,
   "metadata": {},
   "outputs": [],
   "source": [
    "print(len(train_acc_results))\n",
    "print(len(test_acc_results))\n",
    "plt.plot(range(1,len(train_acc_results)+1),train_acc_results,label='train_accuracy')\n",
    "plt.plot(range(1,len(test_acc_results)+1),test_acc_results,label='test_accuracy')\n",
    "plt.legend()"
   ]
  },
  {
   "cell_type": "code",
   "execution_count": null,
   "metadata": {},
   "outputs": [],
   "source": [
    "plt.plot(range(1,len(train_acc_results)+1),train_loss_results,label='train_loss')\n",
    "plt.plot(range(1,len(test_acc_results)+1),test_loss_results,label='test_loss')\n",
    "plt.legend()"
   ]
  }
 ],
 "metadata": {
  "kernelspec": {
   "display_name": "Python [conda env:tf2]",
   "language": "python",
   "name": "conda-env-tf2-py"
  },
  "language_info": {
   "codemirror_mode": {
    "name": "ipython",
    "version": 3
   },
   "file_extension": ".py",
   "mimetype": "text/x-python",
   "name": "python",
   "nbconvert_exporter": "python",
   "pygments_lexer": "ipython3",
   "version": "3.7.7"
  }
 },
 "nbformat": 4,
 "nbformat_minor": 4
}
